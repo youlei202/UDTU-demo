{
 "cells": [
  {
   "cell_type": "code",
   "execution_count": 35,
   "metadata": {},
   "outputs": [
    {
     "data": {
      "application/vnd.jupyter.widget-view+json": {
       "model_id": "9226b3492cf2448fbb49416a484105fb",
       "version_major": 2,
       "version_minor": 0
      },
      "text/plain": [
       "HBox(children=(Label(value='High Bias (Underfitting)'), Label(value='<---->'), Label(value='High Variance (Ove…"
      ]
     },
     "metadata": {},
     "output_type": "display_data"
    },
    {
     "data": {
      "application/vnd.jupyter.widget-view+json": {
       "model_id": "f1ccee3965724611adc7f397010086d6",
       "version_major": 2,
       "version_minor": 0
      },
      "text/plain": [
       "interactive(children=(IntSlider(value=1, description='degree', max=30, min=1), Checkbox(value=True, descriptio…"
      ]
     },
     "metadata": {},
     "output_type": "display_data"
    }
   ],
   "source": [
    "import numpy as np\n",
    "import matplotlib.pyplot as plt\n",
    "from sklearn.pipeline import Pipeline\n",
    "from sklearn.preprocessing import PolynomialFeatures\n",
    "from sklearn.linear_model import LinearRegression\n",
    "from sklearn.model_selection import train_test_split\n",
    "from ipywidgets import interact, interactive, IntSlider, HBox, Label, Button, Layout\n",
    "from IPython.display import display\n",
    "from sklearn.metrics import mean_squared_error\n",
    "\n",
    "\n",
    "np.random.seed(0)\n",
    "\n",
    "# Generate synthetic data\n",
    "n_samples = 100  # Increase the number of samples\n",
    "X = np.sort(np.random.rand(n_samples))\n",
    "y = np.sin(2 * np.pi * X) + np.random.randn(n_samples) * 0.3\n",
    "\n",
    "X = X[:, np.newaxis]  # convert to 2D array for sklearn\n",
    "\n",
    "# Split the data into training and testing sets\n",
    "X_train, X_test, y_train, y_test = train_test_split(X, y, test_size=0.3, random_state=42)\n",
    "\n",
    "def plot_polynomial_fit(degree, new_test_samples=False):\n",
    "    if new_test_samples:\n",
    "        global X_test, y_test\n",
    "        # Generate new test samples\n",
    "        X_test_new = np.sort(np.random.rand(y_test.shape[0]))\n",
    "        y_test_new = np.sin(2 * np.pi * X_test_new) + np.random.randn(y_test.shape[0]) * 0.3\n",
    "        X_test_new = X_test_new[:, np.newaxis]\n",
    "        X_test, y_test = X_test_new, y_test_new\n",
    "\n",
    "    polynomial_features = PolynomialFeatures(degree=degree, include_bias=False)\n",
    "    linear_regression = LinearRegression()\n",
    "    pipeline = Pipeline([(\"polynomial_features\", polynomial_features),\n",
    "                         (\"linear_regression\", linear_regression)])\n",
    "    pipeline.fit(X_train, y_train)\n",
    "    \n",
    "    # Compute the MSE for training and testing data\n",
    "    train_error = mean_squared_error(y_train, pipeline.predict(X_train))\n",
    "    test_error = mean_squared_error(y_test, pipeline.predict(X_test))\n",
    "\n",
    "    X_plot = np.linspace(0, 1, 100)[:, np.newaxis]\n",
    "    y_plot = pipeline.predict(X_plot)\n",
    "\n",
    "    plt.figure(figsize=(7, 6))\n",
    "    plt.plot(X_plot, y_plot, color='red', linewidth=2, label=\"Model\")\n",
    "    plt.scatter(X_train, y_train, edgecolor='b', s=20, label=\"Training samples\")\n",
    "    plt.scatter(X_test, y_test, edgecolor='r', s=20, label=\"Testing samples\")\n",
    "    plt.xlabel(\"x\")\n",
    "    plt.ylabel(\"y\")\n",
    "    plt.xlim((0, 1))\n",
    "    plt.ylim((-2, 2))\n",
    "    plt.legend(loc=\"best\")\n",
    "    plt.title(f\"Polynomial Regression - Degree {degree}\\nTrain error: {train_error:.2f}, Test error: {test_error:.2f}\")\n",
    "    plt.show()\n",
    "\n",
    "# Create invisible IntSlider\n",
    "degree_slider = IntSlider(min=1, max=30, value=1, continuous_update=True)\n",
    "\n",
    "# Create interactive plot and button\n",
    "interactive_plot = interactive(plot_polynomial_fit, degree=degree_slider, new_test_samples=True)\n",
    "def on_button_click(_):\n",
    "    # Increase degree by one and update the plot\n",
    "    interactive_plot.children[-1].value = not interactive_plot.children[-1].value\n",
    "\n",
    "underfit_label = Label(value='High Bias (Underfitting)')\n",
    "overfit_label = Label(value='High Variance (Overfitting)')\n",
    "\n",
    "# Display everything\n",
    "display(HBox([underfit_label, Label(value='<---->'), overfit_label]))\n",
    "display(interactive_plot)"
   ]
  },
  {
   "attachments": {},
   "cell_type": "markdown",
   "metadata": {},
   "source": []
  },
  {
   "cell_type": "code",
   "execution_count": null,
   "metadata": {},
   "outputs": [],
   "source": []
  }
 ],
 "metadata": {
  "kernelspec": {
   "display_name": "base",
   "language": "python",
   "name": "python3"
  },
  "language_info": {
   "codemirror_mode": {
    "name": "ipython",
    "version": 3
   },
   "file_extension": ".py",
   "mimetype": "text/x-python",
   "name": "python",
   "nbconvert_exporter": "python",
   "pygments_lexer": "ipython3",
   "version": "3.9.13"
  },
  "orig_nbformat": 4
 },
 "nbformat": 4,
 "nbformat_minor": 2
}
